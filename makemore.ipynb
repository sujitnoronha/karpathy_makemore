{
 "cells": [
  {
   "cell_type": "markdown",
   "id": "1fbb2a99",
   "metadata": {},
   "source": [
    "#### Makemore 1st "
   ]
  },
  {
   "cell_type": "code",
   "execution_count": null,
   "id": "e6e59ac6",
   "metadata": {},
   "outputs": [],
   "source": [
    " "
   ]
  }
 ],
 "metadata": {
  "kernelspec": {
   "display_name": "Python 3 (ipykernel)",
   "language": "python",
   "name": "python3"
  }
 },
 "nbformat": 4,
 "nbformat_minor": 5
}
