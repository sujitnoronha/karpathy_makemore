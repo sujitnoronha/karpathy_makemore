{
 "cells": [
  {
   "cell_type": "code",
   "execution_count": 1,
   "id": "9ead2444-2649-44ef-b894-b6f5dfbd2513",
   "metadata": {},
   "outputs": [],
   "source": [
    "with open('input.txt', 'r', encoding='utf-8') as f:\n",
    "    text = f.read()\n"
   ]
  },
  {
   "cell_type": "code",
   "execution_count": 2,
   "id": "64fdcbbf-47a1-412e-989e-c8d227adf04c",
   "metadata": {},
   "outputs": [
    {
     "name": "stdout",
     "output_type": "stream",
     "text": [
      "length of dataset in characters: 1115394\n"
     ]
    }
   ],
   "source": [
    "print(\"length of dataset in characters:\", len(text))"
   ]
  },
  {
   "cell_type": "code",
   "execution_count": 3,
   "id": "d5f6f220-f1ec-4d68-a5d8-ad55405fb352",
   "metadata": {},
   "outputs": [
    {
     "name": "stdout",
     "output_type": "stream",
     "text": [
      "First Citizen:\n",
      "Before we proceed any further, hear me speak.\n",
      "\n",
      "All:\n",
      "Speak, speak.\n",
      "\n",
      "First Citizen:\n",
      "You are all resolved rather to die than to famish?\n",
      "\n",
      "All:\n",
      "Resolved. resolved.\n",
      "\n",
      "First Citizen:\n",
      "First, you know Caius Marcius is chief enemy to the people.\n",
      "\n",
      "All:\n",
      "We know't, we know't.\n",
      "\n",
      "First Citizen:\n",
      "Let us kill him, and we'll have corn at our own price.\n",
      "Is't a verdict?\n",
      "\n",
      "All:\n",
      "No more talking on't; let it be done: away, away!\n",
      "\n",
      "Second Citizen:\n",
      "One word, good citizens.\n",
      "\n",
      "First Citizen:\n",
      "We are accounted poor citizens, the patricians good.\n",
      "What authority surfeits on would relieve us: if they\n",
      "would yield us but the superfluity, while it were\n",
      "wholesome, we might guess they relieved us humanely;\n",
      "but they think we are too dear: the leanness that\n",
      "afflicts us, the object of our misery, is as an\n",
      "inventory to particularise their abundance; our\n",
      "sufferance is a gain to them Let us revenge this with\n",
      "our pikes, ere we become rakes: for the gods know I\n",
      "speak this in hunger for bread, not in thirst for revenge.\n",
      "\n",
      "\n"
     ]
    }
   ],
   "source": [
    "print(text[:1000])"
   ]
  },
  {
   "cell_type": "code",
   "execution_count": 4,
   "id": "e319f1a8-3e66-4b57-b1ef-488469f498fd",
   "metadata": {},
   "outputs": [
    {
     "name": "stdout",
     "output_type": "stream",
     "text": [
      "\n",
      " !$&',-.3:;?ABCDEFGHIJKLMNOPQRSTUVWXYZabcdefghijklmnopqrstuvwxyz\n",
      "65\n"
     ]
    }
   ],
   "source": [
    "chars = sorted(list(set(text)))\n",
    "vocab_size =  len(chars)\n",
    "print(''.join(chars))\n",
    "print(vocab_size)"
   ]
  },
  {
   "cell_type": "code",
   "execution_count": 5,
   "id": "f5f7cf9f-cce9-46be-b040-27f528305b93",
   "metadata": {},
   "outputs": [],
   "source": [
    "stoi = {ch:i for i,ch in enumerate(chars)}\n",
    "itos = {i:ch for i,ch in enumerate(chars)}\n",
    "encode = lambda s: [stoi[c] for c in s]\n",
    "decode = lambda l: ''.join([itos[i] for i in l])"
   ]
  },
  {
   "cell_type": "code",
   "execution_count": 6,
   "id": "6a6f9063-8f2f-4c9b-9bfe-aa99806fde22",
   "metadata": {},
   "outputs": [
    {
     "name": "stdout",
     "output_type": "stream",
     "text": [
      "[20, 47, 1, 58, 46, 43, 56, 43]\n"
     ]
    }
   ],
   "source": [
    "print(encode(\"Hi there\"))"
   ]
  },
  {
   "cell_type": "code",
   "execution_count": 7,
   "id": "3b9d1667-888b-44ff-8285-967654085c4c",
   "metadata": {},
   "outputs": [
    {
     "name": "stdout",
     "output_type": "stream",
     "text": [
      "Hi there\n"
     ]
    }
   ],
   "source": [
    "print(decode(encode(\"Hi there\")))"
   ]
  },
  {
   "cell_type": "code",
   "execution_count": 8,
   "id": "abf15679-634b-4ac5-97ce-7aa81798952c",
   "metadata": {},
   "outputs": [],
   "source": [
    "import torch"
   ]
  },
  {
   "cell_type": "code",
   "execution_count": 9,
   "id": "a9d92b58-132a-41e1-9114-87833d08cab6",
   "metadata": {},
   "outputs": [
    {
     "name": "stdout",
     "output_type": "stream",
     "text": [
      "torch.Size([1115394]) torch.int64\n"
     ]
    }
   ],
   "source": [
    "data = torch.tensor(encode(text), dtype=torch.long)\n",
    "print(data.shape, data.dtype)"
   ]
  },
  {
   "cell_type": "code",
   "execution_count": 10,
   "id": "72c3979d-8091-4501-b514-5e9abe9eee0a",
   "metadata": {},
   "outputs": [
    {
     "name": "stdout",
     "output_type": "stream",
     "text": [
      "tensor([18, 47, 56, 57, 58,  1, 15, 47, 58, 47, 64, 43, 52, 10,  0, 14, 43, 44,\n",
      "        53, 56, 43,  1, 61, 43,  1, 54, 56, 53, 41, 43, 43, 42,  1, 39, 52, 63,\n",
      "         1, 44, 59, 56, 58, 46, 43, 56,  6,  1, 46, 43, 39, 56,  1, 51, 43,  1,\n",
      "        57, 54, 43, 39, 49,  8,  0,  0, 13, 50, 50, 10,  0, 31, 54, 43, 39, 49,\n",
      "         6,  1, 57, 54, 43, 39, 49,  8,  0,  0, 18, 47, 56, 57, 58,  1, 15, 47,\n",
      "        58, 47, 64, 43, 52, 10,  0, 37, 53, 59])\n"
     ]
    }
   ],
   "source": [
    "print(data[:100])"
   ]
  },
  {
   "cell_type": "code",
   "execution_count": 11,
   "id": "489cdb07-3c6d-415d-9923-8375a409bc22",
   "metadata": {},
   "outputs": [],
   "source": [
    "n = int(0.9 * len(data))\n",
    "train_data = data[:n]\n",
    "val_data = data[n:]"
   ]
  },
  {
   "cell_type": "code",
   "execution_count": 12,
   "id": "0f4135ac-5bcc-4a64-ad5e-ccbfc0abfe9e",
   "metadata": {},
   "outputs": [
    {
     "data": {
      "text/plain": [
       "tensor([18, 47, 56, 57, 58,  1, 15, 47, 58])"
      ]
     },
     "execution_count": 12,
     "metadata": {},
     "output_type": "execute_result"
    }
   ],
   "source": [
    "block_size = 8\n",
    "train_data[:block_size+1]"
   ]
  },
  {
   "cell_type": "code",
   "execution_count": 13,
   "id": "7d6916e7-3c14-4a02-88a0-e38f71087a64",
   "metadata": {},
   "outputs": [],
   "source": [
    "x = train_data[:block_size]\n",
    "y = train_data[1:block_size+1]"
   ]
  },
  {
   "cell_type": "code",
   "execution_count": 14,
   "id": "b7554e91-b63e-42b8-b4d1-cb2dcdf1a49f",
   "metadata": {},
   "outputs": [
    {
     "name": "stdout",
     "output_type": "stream",
     "text": [
      "when input is tensor([18]) the target: 47\n",
      "when input is tensor([18, 47]) the target: 56\n",
      "when input is tensor([18, 47, 56]) the target: 57\n",
      "when input is tensor([18, 47, 56, 57]) the target: 58\n",
      "when input is tensor([18, 47, 56, 57, 58]) the target: 1\n",
      "when input is tensor([18, 47, 56, 57, 58,  1]) the target: 15\n",
      "when input is tensor([18, 47, 56, 57, 58,  1, 15]) the target: 47\n",
      "when input is tensor([18, 47, 56, 57, 58,  1, 15, 47]) the target: 58\n"
     ]
    }
   ],
   "source": [
    "for t in range(block_size):\n",
    "    context = x[:t+1]\n",
    "    target = y[t]\n",
    "    print(f\"when input is {context} the target: {target}\")"
   ]
  },
  {
   "cell_type": "code",
   "execution_count": 15,
   "id": "d59d5d60-40f6-4257-ab83-9cc85f0ddc51",
   "metadata": {},
   "outputs": [
    {
     "data": {
      "text/plain": [
       "<torch._C.Generator at 0x22a4fad8a50>"
      ]
     },
     "execution_count": 15,
     "metadata": {},
     "output_type": "execute_result"
    }
   ],
   "source": [
    "torch.manual_seed(10)"
   ]
  },
  {
   "cell_type": "code",
   "execution_count": 16,
   "id": "5514918a-0485-4d3d-8fb6-14a23b04feff",
   "metadata": {},
   "outputs": [],
   "source": [
    "batch_size=4\n",
    "block_size=8"
   ]
  },
  {
   "cell_type": "code",
   "execution_count": 22,
   "id": "7e6371bd-998e-40d3-854a-238c21b5d327",
   "metadata": {},
   "outputs": [],
   "source": [
    "def get_batch(split):\n",
    "    data = train_data if split == 'train' else val_data\n",
    "    ix = torch.randint(len(data) - block_size, (batch_size,)) # randomly sampling batch from dataset\n",
    "    x = torch.stack([data[i:i+block_size] for i in ix]) # getting the training data \n",
    "    y = torch.stack([data[i+1:i+block_size+1] for i in ix]) # getting the labels \n",
    "    return x, y"
   ]
  },
  {
   "cell_type": "code",
   "execution_count": 23,
   "id": "72d2eeb2-d49a-45fb-8046-425bb197a3cd",
   "metadata": {},
   "outputs": [
    {
     "name": "stdout",
     "output_type": "stream",
     "text": [
      "inputs:\n",
      "torch.Size([4, 8])\n",
      "tensor([[ 1, 58, 46, 43, 43,  6,  1, 49],\n",
      "        [ 1, 61, 43,  1, 41, 56, 43, 39],\n",
      "        [43, 41, 58,  0, 32, 47, 50, 50],\n",
      "        [49, 57,  1, 58, 46, 39, 58,  1]])\n"
     ]
    }
   ],
   "source": [
    "xb, yb = get_batch('train')\n",
    "print(\"inputs:\")\n",
    "print(xb.shape)\n",
    "print(xb)"
   ]
  },
  {
   "cell_type": "code",
   "execution_count": 24,
   "id": "d7208aeb-29a1-4412-bfe2-4ffe1add8f67",
   "metadata": {},
   "outputs": [
    {
     "data": {
      "text/plain": [
       "tensor([[58, 46, 43, 43,  6,  1, 49, 47],\n",
       "        [61, 43,  1, 41, 56, 43, 39, 58],\n",
       "        [41, 58,  0, 32, 47, 50, 50,  1],\n",
       "        [57,  1, 58, 46, 39, 58,  1, 63]])"
      ]
     },
     "execution_count": 24,
     "metadata": {},
     "output_type": "execute_result"
    }
   ],
   "source": [
    "yb"
   ]
  },
  {
   "cell_type": "code",
   "execution_count": 25,
   "id": "4e8a1019-5126-4ad1-a477-12fdc4f564d1",
   "metadata": {},
   "outputs": [
    {
     "name": "stdout",
     "output_type": "stream",
     "text": [
      "when input is [1] the target: 58\n",
      "when input is [1, 58] the target: 46\n",
      "when input is [1, 58, 46] the target: 43\n",
      "when input is [1, 58, 46, 43] the target: 43\n",
      "when input is [1, 58, 46, 43, 43] the target: 6\n",
      "when input is [1, 58, 46, 43, 43, 6] the target: 1\n",
      "when input is [1, 58, 46, 43, 43, 6, 1] the target: 49\n",
      "when input is [1, 58, 46, 43, 43, 6, 1, 49] the target: 47\n",
      "when input is [1] the target: 61\n",
      "when input is [1, 61] the target: 43\n",
      "when input is [1, 61, 43] the target: 1\n",
      "when input is [1, 61, 43, 1] the target: 41\n",
      "when input is [1, 61, 43, 1, 41] the target: 56\n",
      "when input is [1, 61, 43, 1, 41, 56] the target: 43\n",
      "when input is [1, 61, 43, 1, 41, 56, 43] the target: 39\n",
      "when input is [1, 61, 43, 1, 41, 56, 43, 39] the target: 58\n",
      "when input is [43] the target: 41\n",
      "when input is [43, 41] the target: 58\n",
      "when input is [43, 41, 58] the target: 0\n",
      "when input is [43, 41, 58, 0] the target: 32\n",
      "when input is [43, 41, 58, 0, 32] the target: 47\n",
      "when input is [43, 41, 58, 0, 32, 47] the target: 50\n",
      "when input is [43, 41, 58, 0, 32, 47, 50] the target: 50\n",
      "when input is [43, 41, 58, 0, 32, 47, 50, 50] the target: 1\n",
      "when input is [49] the target: 57\n",
      "when input is [49, 57] the target: 1\n",
      "when input is [49, 57, 1] the target: 58\n",
      "when input is [49, 57, 1, 58] the target: 46\n",
      "when input is [49, 57, 1, 58, 46] the target: 39\n",
      "when input is [49, 57, 1, 58, 46, 39] the target: 58\n",
      "when input is [49, 57, 1, 58, 46, 39, 58] the target: 1\n",
      "when input is [49, 57, 1, 58, 46, 39, 58, 1] the target: 63\n"
     ]
    }
   ],
   "source": [
    "for b in range(batch_size): # batch dimension\n",
    "    for t in range(block_size): # time dimension \n",
    "        context = xb[b, :t+1]\n",
    "        target = yb[b,t]\n",
    "        print(f\"when input is {context.tolist()} the target: {target}\")"
   ]
  },
  {
   "cell_type": "markdown",
   "id": "cf11a71c-d38b-4ab0-b63c-a82f57e3abff",
   "metadata": {},
   "source": [
    "## creating BIgram Language model"
   ]
  },
  {
   "cell_type": "code",
   "execution_count": 26,
   "id": "cd02c683-cdf7-4356-86f0-c06cf54d2618",
   "metadata": {},
   "outputs": [
    {
     "data": {
      "text/plain": [
       "<torch._C.Generator at 0x22a4fad8a50>"
      ]
     },
     "execution_count": 26,
     "metadata": {},
     "output_type": "execute_result"
    }
   ],
   "source": [
    "import torch\n",
    "import torch.nn as nn\n",
    "from torch.nn import functional as F\n",
    "torch.manual_seed(1)"
   ]
  },
  {
   "cell_type": "code",
   "execution_count": 67,
   "id": "4a1ca2ab-9287-4992-88d6-c89882a91152",
   "metadata": {},
   "outputs": [],
   "source": [
    "class BigramLanguagemodel(nn.Module):\n",
    "    \n",
    "    def __init__(self, vocab_size):\n",
    "        super().__init__()\n",
    "        self.token_embedding_table = nn.Embedding(vocab_size, vocab_size)\n",
    "    \n",
    "    def forward(self, idx, targets=None):\n",
    "        logits = self.token_embedding_table(idx)\n",
    "        \n",
    "        if targets is None:\n",
    "            loss = None \n",
    "        else:\n",
    "            B, T, C = logits.shape # C is the vocab size here\n",
    "            #print(B,T, C)\n",
    "            logits = logits.view(B*T, C) # torch takes in batch first \n",
    "            target = targets.view(B*T)\n",
    "            loss = F.cross_entropy(logits, target)\n",
    "        \n",
    "        return logits, loss\n",
    "    \n",
    "    def generate(self, idx, max_new_tokens):\n",
    "        for _ in range(max_new_tokens):\n",
    "            logits, loss = self(idx)\n",
    "            \n",
    "            logits = logits[:, -1, :] # focus only on the last time step\n",
    "            probs = F.softmax(logits, dim=-1) # (B,C)\n",
    "            \n",
    "            idx_next = torch.multinomial(probs, num_samples=1) # (B,1)\n",
    "            \n",
    "            idx = torch.cat((idx, idx_next), dim=1) # B, T+1\n",
    "            \n",
    "        return idx"
   ]
  },
  {
   "cell_type": "code",
   "execution_count": 68,
   "id": "64cab935-6bce-4ec3-8cec-e1300145a8f0",
   "metadata": {},
   "outputs": [],
   "source": [
    "m = BigramLanguagemodel(vocab_size)"
   ]
  },
  {
   "cell_type": "code",
   "execution_count": 69,
   "id": "f820a02f-85f8-43c2-bde8-bd91ecc6d852",
   "metadata": {},
   "outputs": [],
   "source": [
    "logits, loss= m(xb, yb)"
   ]
  },
  {
   "cell_type": "code",
   "execution_count": 70,
   "id": "a6a79032-f295-4369-901d-016e658378b6",
   "metadata": {},
   "outputs": [
    {
     "data": {
      "text/plain": [
       "tensor(4.7728, grad_fn=<NllLossBackward0>)"
      ]
     },
     "execution_count": 70,
     "metadata": {},
     "output_type": "execute_result"
    }
   ],
   "source": [
    "loss"
   ]
  },
  {
   "cell_type": "code",
   "execution_count": 71,
   "id": "05141179-08fe-423f-935d-f51ddb75e1fa",
   "metadata": {},
   "outputs": [
    {
     "name": "stdout",
     "output_type": "stream",
     "text": [
      "\n",
      "jqPFWUvsHZGALfJaXwHCKlaXVrS&!Xfw$;EWgIzARhoeXRtD.l!hCygQBKEw.Xr BwVEIlSu3nPk&Ygd NydeO&tZjLBq; FWMyW\n"
     ]
    }
   ],
   "source": [
    "\n",
    "print(decode(m.generate(idx = torch.zeros((1, 1), dtype=torch.long), max_new_tokens=100)[0].tolist()))"
   ]
  },
  {
   "cell_type": "code",
   "execution_count": 72,
   "id": "a65f11c9-dd68-4940-8ad7-4003b39ce56e",
   "metadata": {},
   "outputs": [],
   "source": [
    "optimizer = torch.optim.AdamW(m.parameters(), lr=1e-3)"
   ]
  },
  {
   "cell_type": "code",
   "execution_count": 73,
   "id": "0a2554f7-da16-4be3-bc83-3865fbab623d",
   "metadata": {},
   "outputs": [
    {
     "name": "stdout",
     "output_type": "stream",
     "text": [
      "4.547042369842529\n"
     ]
    }
   ],
   "source": [
    "batch_size = 32\n",
    "for steps in range(100): # increase number of steps for good results...\n",
    "\n",
    "    # sample a batch of data\n",
    "    xb, yb = get_batch('train')\n",
    "\n",
    "    # evaluate the loss\n",
    "    logits, loss = m(xb, yb)\n",
    "    optimizer.zero_grad(set_to_none=True)\n",
    "    loss.backward()\n",
    "    optimizer.step()\n",
    "\n",
    "print(loss.item())"
   ]
  },
  {
   "cell_type": "code",
   "execution_count": 74,
   "id": "a65c15b7-9423-4624-bd49-474b5e3dceff",
   "metadata": {},
   "outputs": [
    {
     "name": "stdout",
     "output_type": "stream",
     "text": [
      "\n",
      "DIeIEtMoeihR?IRpl\n",
      "'piuxGWICqEt$dO:jHSP$EAfSph$cOQpAFt o&yVXd3aQc$y'q uM3&&'op'owj a:WgyDu3&qZO:Psr Kk?t&p'3XbznYx?rDHHP'MEic$MfKot!huVXK''owT,jY;oeQ.ZhMWlFaCe'UXyd&tWxml$xUgjlNZYSY'J;L Yh\n",
      "laYK?Z !p'rJAqQP$KZYj\n",
      "NBdoP'lCop!dh$,ydJnCmYs,-?Ko bCS'UvKGRLX?VP3F KR&j\n",
      "XLjEvzRJwYlVnQyKH'qhOd3bnu3h\n",
      "aXw-.W'dO:KtDH\n",
      "W; E-.g:UgNzlaCNjpuInobk:!'lItyad$Flqmow'\n",
      "GUg\n",
      "d$ xK,!;In l'MEaCOP3WD;&Vgl&otLs\n",
      "qUOfmyPfOi.HOkoHkaz:hfdLSUSsORclaXEWy\n",
      "VqZ'PX&YcTGzi\n",
      "ZLD; K,!CqMxleaXUXGAr'.sec$&Pg\n",
      "nfPs:K'ii;$UsOsUE?IQ3.QOKR$WCIx3z\n"
     ]
    }
   ],
   "source": [
    "print(decode(m.generate(idx = torch.zeros((1, 1), dtype=torch.long), max_new_tokens=500)[0].tolist()))"
   ]
  },
  {
   "cell_type": "markdown",
   "id": "faeccf28-aab8-4e96-999d-97eac6d1d21f",
   "metadata": {},
   "source": [
    "## The mathematical trick in self-attention"
   ]
  },
  {
   "cell_type": "code",
   "execution_count": 75,
   "id": "08ed2bca-ea58-486f-9d0d-f09bbb94749f",
   "metadata": {},
   "outputs": [],
   "source": [
    "B, T, C = 4, 8, 2"
   ]
  },
  {
   "cell_type": "code",
   "execution_count": 76,
   "id": "44516b4d-4718-4a50-87f1-2a9c5f79d417",
   "metadata": {},
   "outputs": [],
   "source": [
    "x = torch.randn(B, T, C)"
   ]
  },
  {
   "cell_type": "code",
   "execution_count": 77,
   "id": "17b970df-7de9-42bb-8b02-b09d52c82e7b",
   "metadata": {},
   "outputs": [
    {
     "data": {
      "text/plain": [
       "torch.Size([4, 8, 2])"
      ]
     },
     "execution_count": 77,
     "metadata": {},
     "output_type": "execute_result"
    }
   ],
   "source": [
    "x.shape"
   ]
  },
  {
   "cell_type": "code",
   "execution_count": 78,
   "id": "b6829288-4152-49c9-847d-36349de1da3b",
   "metadata": {},
   "outputs": [],
   "source": [
    "xbow = torch.zeros((B, T, C))\n",
    "for b in range(B):\n",
    "    for t in range(T):\n",
    "        xprev = x[b, :t+1] #(t,C)\n",
    "        xbow[b,t] = torch.mean(xprev, 0)"
   ]
  },
  {
   "cell_type": "code",
   "execution_count": 79,
   "id": "495acabc-d8b2-421b-9a93-b1e4639f2f64",
   "metadata": {},
   "outputs": [
    {
     "data": {
      "text/plain": [
       "tensor([[-0.8716,  0.0373],\n",
       "        [ 0.3508, -2.0232],\n",
       "        [ 1.4559, -1.2582],\n",
       "        [-0.5755,  1.0666],\n",
       "        [ 0.0455,  0.2643],\n",
       "        [ 1.1503, -0.0786],\n",
       "        [-1.0749,  1.6004],\n",
       "        [-0.4880,  1.6751]])"
      ]
     },
     "execution_count": 79,
     "metadata": {},
     "output_type": "execute_result"
    }
   ],
   "source": [
    "x[0]"
   ]
  },
  {
   "cell_type": "code",
   "execution_count": 80,
   "id": "e57873f0-1f7d-48b7-90cb-b6bea3bc05bc",
   "metadata": {},
   "outputs": [],
   "source": [
    "torch.manual_seed(42)\n",
    "a = torch.ones(3,3)\n",
    "b = torch.randint(0, 10, (3,2)).float()"
   ]
  },
  {
   "cell_type": "code",
   "execution_count": 81,
   "id": "cbab906c-c58c-47a9-ab40-6190c847727e",
   "metadata": {},
   "outputs": [
    {
     "data": {
      "text/plain": [
       "tensor([[2., 7.],\n",
       "        [6., 4.],\n",
       "        [6., 5.]])"
      ]
     },
     "execution_count": 81,
     "metadata": {},
     "output_type": "execute_result"
    }
   ],
   "source": [
    "b"
   ]
  },
  {
   "cell_type": "code",
   "execution_count": 82,
   "id": "60bd9d04-e3a6-4b7d-be0e-dbdec9e3618b",
   "metadata": {},
   "outputs": [],
   "source": [
    "c = a@b"
   ]
  },
  {
   "cell_type": "code",
   "execution_count": 83,
   "id": "681c892c-9a98-4456-bcc3-b9c9c056ff44",
   "metadata": {},
   "outputs": [
    {
     "data": {
      "text/plain": [
       "tensor([[14., 16.],\n",
       "        [14., 16.],\n",
       "        [14., 16.]])"
      ]
     },
     "execution_count": 83,
     "metadata": {},
     "output_type": "execute_result"
    }
   ],
   "source": [
    "c"
   ]
  },
  {
   "cell_type": "code",
   "execution_count": 85,
   "id": "d9848501-463b-46f8-ad1f-fdd610c94baa",
   "metadata": {},
   "outputs": [
    {
     "ename": "AttributeError",
     "evalue": "module 'torch' has no attribute 'dril'",
     "output_type": "error",
     "traceback": [
      "\u001b[1;31m---------------------------------------------------------------------------\u001b[0m",
      "\u001b[1;31mAttributeError\u001b[0m                            Traceback (most recent call last)",
      "Cell \u001b[1;32mIn[85], line 1\u001b[0m\n\u001b[1;32m----> 1\u001b[0m \u001b[43mtorch\u001b[49m\u001b[38;5;241;43m.\u001b[39;49m\u001b[43mdril\u001b[49m(a)\n",
      "File \u001b[1;32m~\\anaconda3\\lib\\site-packages\\torch\\__init__.py:1833\u001b[0m, in \u001b[0;36m__getattr__\u001b[1;34m(name)\u001b[0m\n\u001b[0;32m   1830\u001b[0m     \u001b[38;5;28;01mimport\u001b[39;00m \u001b[38;5;21;01mimportlib\u001b[39;00m\n\u001b[0;32m   1831\u001b[0m     \u001b[38;5;28;01mreturn\u001b[39;00m importlib\u001b[38;5;241m.\u001b[39mimport_module(\u001b[38;5;124mf\u001b[39m\u001b[38;5;124m\"\u001b[39m\u001b[38;5;124m.\u001b[39m\u001b[38;5;132;01m{\u001b[39;00mname\u001b[38;5;132;01m}\u001b[39;00m\u001b[38;5;124m\"\u001b[39m, \u001b[38;5;18m__name__\u001b[39m)\n\u001b[1;32m-> 1833\u001b[0m \u001b[38;5;28;01mraise\u001b[39;00m \u001b[38;5;167;01mAttributeError\u001b[39;00m(\u001b[38;5;124mf\u001b[39m\u001b[38;5;124m\"\u001b[39m\u001b[38;5;124mmodule \u001b[39m\u001b[38;5;124m'\u001b[39m\u001b[38;5;132;01m{\u001b[39;00m\u001b[38;5;18m__name__\u001b[39m\u001b[38;5;132;01m}\u001b[39;00m\u001b[38;5;124m'\u001b[39m\u001b[38;5;124m has no attribute \u001b[39m\u001b[38;5;124m'\u001b[39m\u001b[38;5;132;01m{\u001b[39;00mname\u001b[38;5;132;01m}\u001b[39;00m\u001b[38;5;124m'\u001b[39m\u001b[38;5;124m\"\u001b[39m)\n",
      "\u001b[1;31mAttributeError\u001b[0m: module 'torch' has no attribute 'dril'"
     ]
    }
   ],
   "source": [
    "torch.dril(a)"
   ]
  },
  {
   "cell_type": "code",
   "execution_count": null,
   "id": "6a54a694-767e-4126-b7eb-1c0de945b0db",
   "metadata": {},
   "outputs": [],
   "source": []
  }
 ],
 "metadata": {
  "kernelspec": {
   "display_name": "Python 3 (ipykernel)",
   "language": "python",
   "name": "python3"
  },
  "language_info": {
   "codemirror_mode": {
    "name": "ipython",
    "version": 3
   },
   "file_extension": ".py",
   "mimetype": "text/x-python",
   "name": "python",
   "nbconvert_exporter": "python",
   "pygments_lexer": "ipython3",
   "version": "3.10.9"
  }
 },
 "nbformat": 4,
 "nbformat_minor": 5
}
